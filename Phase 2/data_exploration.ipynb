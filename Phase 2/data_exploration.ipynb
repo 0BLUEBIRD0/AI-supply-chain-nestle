{
 "cells": [
  {
   "cell_type": "code",
   "execution_count": 3,
   "id": "317deb21",
   "metadata": {},
   "outputs": [],
   "source": [
    "import pandas as pd\n",
    "import numpy as np\n",
    "import matplotlib.pyplot as plt\n",
    "import seaborn as sns\n",
    "import os\n",
    "from datetime import datetime\n",
    "import warnings\n",
    "warnings.filterwarnings('ignore')"
   ]
  },
  {
   "cell_type": "code",
   "execution_count": 4,
   "id": "b9a12b2b",
   "metadata": {},
   "outputs": [],
   "source": [
    "df = pd.read_csv('D:/AI-supply-chain-nestle/data/raw/extended_fmcg_demand_forecasting.csv')"
   ]
  },
  {
   "cell_type": "code",
   "execution_count": 5,
   "id": "746a957a",
   "metadata": {},
   "outputs": [],
   "source": [
    "df['Date'] = pd.to_datetime(df['Date'])\n",
    "# Mapping for relevance (focus on top 5; ignore others like Household/Personal Care for scope)\n",
    "nestle_mapping = {\n",
    "    'Snacks': 'Maggi (Snacks)',\n",
    "    'Beverages': 'Nescafé (Beverages)',\n",
    "    'Dairy': 'Milkmaid (Dairy)',\n",
    "    'Confectionery': 'KitKat (Confectionery)',  # Assuming some map; if not present, we'll simulate later\n",
    "    'Nutrition': 'Cerelac (Nutrition)'  # If present\n",
    "}"
   ]
  },
  {
   "cell_type": "code",
   "execution_count": 6,
   "id": "9c86d9b3",
   "metadata": {},
   "outputs": [],
   "source": [
    "relevant_cats = ['Snacks', 'Beverages', 'Dairy']  # Expand as data shows\n",
    "df = df[df['Product_Category'].isin(relevant_cats)].copy()\n",
    "df['Product'] = df['Product_Category'].map(lambda x: nestle_mapping.get(x, x))  # Map to full name\n",
    "df['Category'] = df['Product_Category']"
   ]
  },
  {
   "cell_type": "code",
   "execution_count": 7,
   "id": "d9aab225",
   "metadata": {},
   "outputs": [],
   "source": [
    "df.to_csv('D:/AI-supply-chain-nestle/data/raw/nestle_mapped_fmcg.csv', index=False)"
   ]
  },
  {
   "cell_type": "code",
   "execution_count": 8,
   "id": "cd5cf7f3",
   "metadata": {},
   "outputs": [
    {
     "name": "stdout",
     "output_type": "stream",
     "text": [
      "Dataset shape after filtering: (590, 12)\n",
      "\n",
      "First 5 rows:\n",
      "        Date Product_Category  Sales_Volume      Price  Promotion  \\\n",
      "2 2022-01-03            Dairy           455   4.867987          0   \n",
      "5 2022-01-06           Snacks          1256  19.254830          1   \n",
      "6 2022-01-07            Dairy           987   8.902240          0   \n",
      "7 2022-01-08            Dairy          1928  17.078661          0   \n",
      "8 2022-01-09            Dairy          1963  12.946532          1   \n",
      "\n",
      "  Store_Location  Weekday  Supplier_Cost  Replenishment_Lead_Time  \\\n",
      "2          Rural        0      13.302265                        9   \n",
      "5          Urban        3      13.013454                        1   \n",
      "6       Suburban        4      13.348355                        7   \n",
      "7          Rural        5       3.351477                        4   \n",
      "8          Rural        6      11.192678                        5   \n",
      "\n",
      "   Stock_Level           Product Category  \n",
      "2          245  Milkmaid (Dairy)    Dairy  \n",
      "5          245    Maggi (Snacks)   Snacks  \n",
      "6          356  Milkmaid (Dairy)    Dairy  \n",
      "7          201  Milkmaid (Dairy)    Dairy  \n",
      "8           63  Milkmaid (Dairy)    Dairy  \n",
      "\n",
      "Data types:\n",
      "Date                       datetime64[ns]\n",
      "Product_Category                   object\n",
      "Sales_Volume                        int64\n",
      "Price                             float64\n",
      "Promotion                           int64\n",
      "Store_Location                     object\n",
      "Weekday                             int64\n",
      "Supplier_Cost                     float64\n",
      "Replenishment_Lead_Time             int64\n",
      "Stock_Level                         int64\n",
      "Product                            object\n",
      "Category                           object\n",
      "dtype: object\n",
      "\n",
      "Unique Products: ['Milkmaid (Dairy)' 'Maggi (Snacks)' 'Nescafé (Beverages)']\n",
      "\n",
      "Date range: 2022-01-03 00:00:00 to 2024-09-26 00:00:00\n"
     ]
    }
   ],
   "source": [
    "print(\"Dataset shape after filtering:\", df.shape)\n",
    "print(\"\\nFirst 5 rows:\")\n",
    "print(df.head())\n",
    "print(\"\\nData types:\")\n",
    "print(df.dtypes)\n",
    "print(\"\\nUnique Products:\", df['Product'].unique())\n",
    "print(\"\\nDate range:\", df['Date'].min(), \"to\", df['Date'].max())"
   ]
  },
  {
   "cell_type": "code",
   "execution_count": 9,
   "id": "9e9a0c4b",
   "metadata": {},
   "outputs": [],
   "source": [
    "df = pd.read_csv('D:/AI-supply-chain-nestle/data/raw/nestle_mapped_fmcg.csv')\n",
    "df['Date'] = pd.to_datetime(df['Date'])"
   ]
  },
  {
   "cell_type": "code",
   "execution_count": 10,
   "id": "d062d263",
   "metadata": {},
   "outputs": [
    {
     "name": "stdout",
     "output_type": "stream",
     "text": [
      "Dataset shape: (590, 12)\n",
      "\n",
      "Missing values per column:\n",
      "Date                       0\n",
      "Product_Category           0\n",
      "Sales_Volume               0\n",
      "Price                      0\n",
      "Promotion                  0\n",
      "Store_Location             0\n",
      "Weekday                    0\n",
      "Supplier_Cost              0\n",
      "Replenishment_Lead_Time    0\n",
      "Stock_Level                0\n",
      "Product                    0\n",
      "Category                   0\n",
      "dtype: int64\n"
     ]
    }
   ],
   "source": [
    "print(\"Dataset shape:\", df.shape)\n",
    "print(\"\\nMissing values per column:\")\n",
    "print(df.isnull().sum())"
   ]
  },
  {
   "cell_type": "code",
   "execution_count": 11,
   "id": "b8bbda9b",
   "metadata": {},
   "outputs": [
    {
     "name": "stdout",
     "output_type": "stream",
     "text": [
      "\n",
      "Descriptive Statistics for Key Columns:\n",
      "       Sales_Volume       Price  Supplier_Cost  Replenishment_Lead_Time  \\\n",
      "count    590.000000  590.000000     590.000000               590.000000   \n",
      "mean    1052.974576   10.240137       7.657749                 4.974576   \n",
      "std      542.157005    5.243972       4.178438                 2.535526   \n",
      "min      106.000000    1.035718       0.509474                 1.000000   \n",
      "25%      581.500000    5.881569       4.006978                 3.000000   \n",
      "50%     1054.500000   10.094389       7.511452                 5.000000   \n",
      "75%     1488.500000   14.675732      11.183615                 7.000000   \n",
      "max     1997.000000   19.944485      14.993587                 9.000000   \n",
      "\n",
      "       Stock_Level  \n",
      "count   590.000000  \n",
      "mean    271.588136  \n",
      "std     132.332688  \n",
      "min      50.000000  \n",
      "25%     153.250000  \n",
      "50%     266.000000  \n",
      "75%     385.750000  \n",
      "max     499.000000  \n"
     ]
    }
   ],
   "source": [
    "key_cols = ['Sales_Volume', 'Price', 'Supplier_Cost', 'Replenishment_Lead_Time', 'Stock_Level']\n",
    "print(\"\\nDescriptive Statistics for Key Columns:\")\n",
    "print(df[key_cols].describe())"
   ]
  },
  {
   "cell_type": "code",
   "execution_count": 13,
   "id": "ad7cd5bd",
   "metadata": {},
   "outputs": [
    {
     "name": "stdout",
     "output_type": "stream",
     "text": [
      "\n",
      "Sales by Product:\n",
      "                        mean     sum  count\n",
      "Product                                    \n",
      "Maggi (Snacks)       1013.29  192525    190\n",
      "Milkmaid (Dairy)     1073.43  203952    190\n",
      "Nescafé (Beverages)  1070.37  224778    210\n"
     ]
    }
   ],
   "source": [
    "print(\"\\nSales by Product:\")\n",
    "print(df.groupby('Product')['Sales_Volume'].agg(['mean', 'sum', 'count']).round(2))"
   ]
  },
  {
   "cell_type": "code",
   "execution_count": 14,
   "id": "2914aa1c",
   "metadata": {},
   "outputs": [
    {
     "name": "stdout",
     "output_type": "stream",
     "text": [
      "\n",
      "Average Sales by Store Location:\n",
      "Store_Location\n",
      "Rural       1030.36\n",
      "Suburban    1060.63\n",
      "Urban       1068.13\n",
      "Name: Sales_Volume, dtype: float64\n"
     ]
    }
   ],
   "source": [
    "print(\"\\nAverage Sales by Store Location:\")\n",
    "print(df.groupby('Store_Location')['Sales_Volume'].mean().round(2))"
   ]
  },
  {
   "cell_type": "code",
   "execution_count": 15,
   "id": "eae57aa6",
   "metadata": {},
   "outputs": [
    {
     "name": "stdout",
     "output_type": "stream",
     "text": [
      "\n",
      "Average Sales by Promotion (0=No, 1=Yes):\n",
      "Promotion\n",
      "0    1025.95\n",
      "1    1080.00\n",
      "Name: Sales_Volume, dtype: float64\n"
     ]
    }
   ],
   "source": [
    "print(\"\\nAverage Sales by Promotion (0=No, 1=Yes):\")\n",
    "print(df.groupby('Promotion')['Sales_Volume'].mean().round(2))"
   ]
  },
  {
   "cell_type": "code",
   "execution_count": 16,
   "id": "08b7f9e2",
   "metadata": {},
   "outputs": [
    {
     "data": {
      "image/png": "[encoded data removed]",
      "text/plain": [
       "<Figure size 800x600 with 2 Axes>"
      ]
     },
     "metadata": {},
     "output_type": "display_data"
    }
   ],
   "source": [
    "corr_matrix = df[key_cols + ['Promotion']].corr()\n",
    "plt.figure(figsize=(8, 6))\n",
    "sns.heatmap(corr_matrix, annot=True, cmap='coolwarm', center=0, fmt='.2f')\n",
    "plt.title('Correlation Heatmap of Key Supply Chain Metrics')\n",
    "plt.tight_layout()\n",
    "plt.show()"
   ]
  },
  {
   "cell_type": "code",
   "execution_count": 19,
   "id": "182d39f2",
   "metadata": {},
   "outputs": [
    {
     "name": "stdout",
     "output_type": "stream",
     "text": [
      "\n",
      "Exploration complete—check plots and stats above!\n"
     ]
    }
   ],
   "source": [
    "df.describe().to_csv('D:/AI-supply-chain-nestle/data/processed/exploration_stats.csv') \n",
    "print(\"\\nExploration complete—check plots and stats above!\")"
   ]
  },
  {
   "cell_type": "code",
   "execution_count": 20,
   "id": "e89024cd",
   "metadata": {},
   "outputs": [
    {
     "name": "stdout",
     "output_type": "stream",
     "text": [
      "Duplicates before cleaning: 0\n",
      "Duplicates after: 0\n"
     ]
    }
   ],
   "source": [
    "print(\"Duplicates before cleaning:\", df.duplicated().sum())\n",
    "df = df.drop_duplicates()\n",
    "print(\"Duplicates after:\", df.duplicated().sum())"
   ]
  },
  {
   "cell_type": "code",
   "execution_count": 21,
   "id": "ad973a50",
   "metadata": {},
   "outputs": [
    {
     "name": "stdout",
     "output_type": "stream",
     "text": [
      "Outliers in Sales_Volume (>3σ): 0.0% (0 rows)\n"
     ]
    }
   ],
   "source": [
    "sales_mean = df['Sales_Volume'].mean()\n",
    "sales_std = df['Sales_Volume'].std()\n",
    "upper_bound = sales_mean + 3 * sales_std\n",
    "lower_bound = max(0, sales_mean - 3 * sales_std)  # No negatives for sales\n",
    "df['Sales_Volume_outlier'] = (df['Sales_Volume'] > upper_bound) | (df['Sales_Volume'] < lower_bound)\n",
    "outlier_pct = df['Sales_Volume_outlier'].sum() / len(df) * 100\n",
    "print(f\"Outliers in Sales_Volume (>3σ): {outlier_pct:.1f}% ({df['Sales_Volume_outlier'].sum()} rows)\")"
   ]
  },
  {
   "cell_type": "code",
   "execution_count": 22,
   "id": "35dbcf60",
   "metadata": {},
   "outputs": [],
   "source": [
    "df.loc[df['Sales_Volume'] > upper_bound, 'Sales_Volume'] = upper_bound\n",
    "df.loc[df['Sales_Volume'] < lower_bound, 'Sales_Volume'] = lower_bound\n",
    "df = df.drop('Sales_Volume_outlier', axis=1)  # Clean up"
   ]
  },
  {
   "cell_type": "code",
   "execution_count": 23,
   "id": "1bf853e0",
   "metadata": {},
   "outputs": [],
   "source": [
    "df['Monsoon_Month'] = df['Date'].dt.month.isin([7, 8]).astype(int)  # Jul-Aug dip\n",
    "df['Festival_Month'] = df['Date'].dt.month.isin([10, 11, 12]).astype(int)  # Oct-Dec spike\n",
    "df['Year'] = df['Date'].dt.year\n",
    "df['Month'] = df['Date'].dt.month\n",
    "df['Quarter'] = df['Date'].dt.quarter"
   ]
  },
  {
   "cell_type": "code",
   "execution_count": 24,
   "id": "c9d804cb",
   "metadata": {},
   "outputs": [],
   "source": [
    "df_monthly = df.groupby(['Year', 'Month', 'Product', 'Category', 'Store_Location']).agg({\n",
    "    'Sales_Volume': ['sum', 'mean'],  # Total & avg monthly sales\n",
    "    'Stock_Level': 'last',  # End-of-month stock\n",
    "    'Price': 'mean',\n",
    "    'Promotion': 'mean',  # Prop of promo days\n",
    "    'Replenishment_Lead_Time': 'mean',\n",
    "    'Supplier_Cost': 'mean',\n",
    "    'Monsoon_Month': 'max',  # If any day in month is monsoon\n",
    "    'Festival_Month': 'max'\n",
    "}).reset_index()\n",
    "df_monthly.columns = ['Year', 'Month', 'Product', 'Category', 'Store_Location', 'Monthly_Sales_Total', \n",
    "                      'Monthly_Sales_Avg', 'End_Stock_Level', 'Avg_Price', 'Promo_Proportion', \n",
    "                      'Avg_Lead_Time', 'Avg_Supplier_Cost', 'Monsoon_Month', 'Festival_Month']\n",
    "df_monthly['Date'] = pd.to_datetime(df_monthly['Year'].astype(str) + '-' + df_monthly['Month'].astype(str) + '-01')"
   ]
  },
  {
   "cell_type": "code",
   "execution_count": null,
   "id": "5d6304bd",
   "metadata": {},
   "outputs": [
    {
     "ename": "OSError",
     "evalue": "Cannot save file into a non-existent directory: 'data\\processed'",
     "output_type": "error",
     "traceback": [
      "\u001b[31m---------------------------------------------------------------------------\u001b[39m",
      "\u001b[31mOSError\u001b[39m                                   Traceback (most recent call last)",
      "\u001b[36mCell\u001b[39m\u001b[36m \u001b[39m\u001b[32mIn[25]\u001b[39m\u001b[32m, line 1\u001b[39m\n\u001b[32m----> \u001b[39m\u001b[32m1\u001b[39m \u001b[43mdf\u001b[49m\u001b[43m.\u001b[49m\u001b[43mto_csv\u001b[49m\u001b[43m(\u001b[49m\u001b[33;43m'\u001b[39;49m\u001b[33;43mdata/processed/cleaned_daily_nestle.csv\u001b[39;49m\u001b[33;43m'\u001b[39;49m\u001b[43m,\u001b[49m\u001b[43m \u001b[49m\u001b[43mindex\u001b[49m\u001b[43m=\u001b[49m\u001b[38;5;28;43;01mFalse\u001b[39;49;00m\u001b[43m)\u001b[49m\n\u001b[32m      2\u001b[39m df_monthly.to_csv(\u001b[33m'\u001b[39m\u001b[33mdata/processed/cleaned_monthly_nestle.csv\u001b[39m\u001b[33m'\u001b[39m, index=\u001b[38;5;28;01mFalse\u001b[39;00m)\n\u001b[32m      3\u001b[39m \u001b[38;5;28mprint\u001b[39m(\u001b[33m\"\u001b[39m\u001b[38;5;130;01m\\n\u001b[39;00m\u001b[33mCleaned data saved:\u001b[39m\u001b[33m\"\u001b[39m)\n",
      "\u001b[36mFile \u001b[39m\u001b[32mc:\\Users\\piyus\\AppData\\Local\\Programs\\Python\\Python313\\Lib\\site-packages\\pandas\\util\\_decorators.py:333\u001b[39m, in \u001b[36mdeprecate_nonkeyword_arguments.<locals>.decorate.<locals>.wrapper\u001b[39m\u001b[34m(*args, **kwargs)\u001b[39m\n\u001b[32m    327\u001b[39m \u001b[38;5;28;01mif\u001b[39;00m \u001b[38;5;28mlen\u001b[39m(args) > num_allow_args:\n\u001b[32m    328\u001b[39m     warnings.warn(\n\u001b[32m    329\u001b[39m         msg.format(arguments=_format_argument_list(allow_args)),\n\u001b[32m    330\u001b[39m         \u001b[38;5;167;01mFutureWarning\u001b[39;00m,\n\u001b[32m    331\u001b[39m         stacklevel=find_stack_level(),\n\u001b[32m    332\u001b[39m     )\n\u001b[32m--> \u001b[39m\u001b[32m333\u001b[39m \u001b[38;5;28;01mreturn\u001b[39;00m \u001b[43mfunc\u001b[49m\u001b[43m(\u001b[49m\u001b[43m*\u001b[49m\u001b[43margs\u001b[49m\u001b[43m,\u001b[49m\u001b[43m \u001b[49m\u001b[43m*\u001b[49m\u001b[43m*\u001b[49m\u001b[43mkwargs\u001b[49m\u001b[43m)\u001b[49m\n",
      "\u001b[36mFile \u001b[39m\u001b[32mc:\\Users\\piyus\\AppData\\Local\\Programs\\Python\\Python313\\Lib\\site-packages\\pandas\\core\\generic.py:3986\u001b[39m, in \u001b[36mNDFrame.to_csv\u001b[39m\u001b[34m(self, path_or_buf, sep, na_rep, float_format, columns, header, index, index_label, mode, encoding, compression, quoting, quotechar, lineterminator, chunksize, date_format, doublequote, escapechar, decimal, errors, storage_options)\u001b[39m\n\u001b[32m   3975\u001b[39m df = \u001b[38;5;28mself\u001b[39m \u001b[38;5;28;01mif\u001b[39;00m \u001b[38;5;28misinstance\u001b[39m(\u001b[38;5;28mself\u001b[39m, ABCDataFrame) \u001b[38;5;28;01melse\u001b[39;00m \u001b[38;5;28mself\u001b[39m.to_frame()\n\u001b[32m   3977\u001b[39m formatter = DataFrameFormatter(\n\u001b[32m   3978\u001b[39m     frame=df,\n\u001b[32m   3979\u001b[39m     header=header,\n\u001b[32m   (...)\u001b[39m\u001b[32m   3983\u001b[39m     decimal=decimal,\n\u001b[32m   3984\u001b[39m )\n\u001b[32m-> \u001b[39m\u001b[32m3986\u001b[39m \u001b[38;5;28;01mreturn\u001b[39;00m \u001b[43mDataFrameRenderer\u001b[49m\u001b[43m(\u001b[49m\u001b[43mformatter\u001b[49m\u001b[43m)\u001b[49m\u001b[43m.\u001b[49m\u001b[43mto_csv\u001b[49m\u001b[43m(\u001b[49m\n\u001b[32m   3987\u001b[39m \u001b[43m    \u001b[49m\u001b[43mpath_or_buf\u001b[49m\u001b[43m,\u001b[49m\n\u001b[32m   3988\u001b[39m \u001b[43m    \u001b[49m\u001b[43mlineterminator\u001b[49m\u001b[43m=\u001b[49m\u001b[43mlineterminator\u001b[49m\u001b[43m,\u001b[49m\n\u001b[32m   3989\u001b[39m \u001b[43m    \u001b[49m\u001b[43msep\u001b[49m\u001b[43m=\u001b[49m\u001b[43msep\u001b[49m\u001b[43m,\u001b[49m\n\u001b[32m   3990\u001b[39m \u001b[43m    \u001b[49m\u001b[43mencoding\u001b[49m\u001b[43m=\u001b[49m\u001b[43mencoding\u001b[49m\u001b[43m,\u001b[49m\n\u001b[32m   3991\u001b[39m \u001b[43m    \u001b[49m\u001b[43merrors\u001b[49m\u001b[43m=\u001b[49m\u001b[43merrors\u001b[49m\u001b[43m,\u001b[49m\n\u001b[32m   3992\u001b[39m \u001b[43m    \u001b[49m\u001b[43mcompression\u001b[49m\u001b[43m=\u001b[49m\u001b[43mcompression\u001b[49m\u001b[43m,\u001b[49m\n\u001b[32m   3993\u001b[39m \u001b[43m    \u001b[49m\u001b[43mquoting\u001b[49m\u001b[43m=\u001b[49m\u001b[43mquoting\u001b[49m\u001b[43m,\u001b[49m\n\u001b[32m   3994\u001b[39m \u001b[43m    \u001b[49m\u001b[43mcolumns\u001b[49m\u001b[43m=\u001b[49m\u001b[43mcolumns\u001b[49m\u001b[43m,\u001b[49m\n\u001b[32m   3995\u001b[39m \u001b[43m    \u001b[49m\u001b[43mindex_label\u001b[49m\u001b[43m=\u001b[49m\u001b[43mindex_label\u001b[49m\u001b[43m,\u001b[49m\n\u001b[32m   3996\u001b[39m \u001b[43m    \u001b[49m\u001b[43mmode\u001b[49m\u001b[43m=\u001b[49m\u001b[43mmode\u001b[49m\u001b[43m,\u001b[49m\n\u001b[32m   3997\u001b[39m \u001b[43m    \u001b[49m\u001b[43mchunksize\u001b[49m\u001b[43m=\u001b[49m\u001b[43mchunksize\u001b[49m\u001b[43m,\u001b[49m\n\u001b[32m   3998\u001b[39m \u001b[43m    \u001b[49m\u001b[43mquotechar\u001b[49m\u001b[43m=\u001b[49m\u001b[43mquotechar\u001b[49m\u001b[43m,\u001b[49m\n\u001b[32m   3999\u001b[39m \u001b[43m    \u001b[49m\u001b[43mdate_format\u001b[49m\u001b[43m=\u001b[49m\u001b[43mdate_format\u001b[49m\u001b[43m,\u001b[49m\n\u001b[32m   4000\u001b[39m \u001b[43m    \u001b[49m\u001b[43mdoublequote\u001b[49m\u001b[43m=\u001b[49m\u001b[43mdoublequote\u001b[49m\u001b[43m,\u001b[49m\n\u001b[32m   4001\u001b[39m \u001b[43m    \u001b[49m\u001b[43mescapechar\u001b[49m\u001b[43m=\u001b[49m\u001b[43mescapechar\u001b[49m\u001b[43m,\u001b[49m\n\u001b[32m   4002\u001b[39m \u001b[43m    \u001b[49m\u001b[43mstorage_options\u001b[49m\u001b[43m=\u001b[49m\u001b[43mstorage_options\u001b[49m\u001b[43m,\u001b[49m\n\u001b[32m   4003\u001b[39m \u001b[43m\u001b[49m\u001b[43m)\u001b[49m\n",
      "\u001b[36mFile \u001b[39m\u001b[32mc:\\Users\\piyus\\AppData\\Local\\Programs\\Python\\Python313\\Lib\\site-packages\\pandas\\io\\formats\\format.py:1014\u001b[39m, in \u001b[36mDataFrameRenderer.to_csv\u001b[39m\u001b[34m(self, path_or_buf, encoding, sep, columns, index_label, mode, compression, quoting, quotechar, lineterminator, chunksize, date_format, doublequote, escapechar, errors, storage_options)\u001b[39m\n\u001b[32m    993\u001b[39m     created_buffer = \u001b[38;5;28;01mFalse\u001b[39;00m\n\u001b[32m    995\u001b[39m csv_formatter = CSVFormatter(\n\u001b[32m    996\u001b[39m     path_or_buf=path_or_buf,\n\u001b[32m    997\u001b[39m     lineterminator=lineterminator,\n\u001b[32m   (...)\u001b[39m\u001b[32m   1012\u001b[39m     formatter=\u001b[38;5;28mself\u001b[39m.fmt,\n\u001b[32m   1013\u001b[39m )\n\u001b[32m-> \u001b[39m\u001b[32m1014\u001b[39m \u001b[43mcsv_formatter\u001b[49m\u001b[43m.\u001b[49m\u001b[43msave\u001b[49m\u001b[43m(\u001b[49m\u001b[43m)\u001b[49m\n\u001b[32m   1016\u001b[39m \u001b[38;5;28;01mif\u001b[39;00m created_buffer:\n\u001b[32m   1017\u001b[39m     \u001b[38;5;28;01massert\u001b[39;00m \u001b[38;5;28misinstance\u001b[39m(path_or_buf, StringIO)\n",
      "\u001b[36mFile \u001b[39m\u001b[32mc:\\Users\\piyus\\AppData\\Local\\Programs\\Python\\Python313\\Lib\\site-packages\\pandas\\io\\formats\\csvs.py:251\u001b[39m, in \u001b[36mCSVFormatter.save\u001b[39m\u001b[34m(self)\u001b[39m\n\u001b[32m    247\u001b[39m \u001b[38;5;250m\u001b[39m\u001b[33;03m\"\"\"\u001b[39;00m\n\u001b[32m    248\u001b[39m \u001b[33;03mCreate the writer & save.\u001b[39;00m\n\u001b[32m    249\u001b[39m \u001b[33;03m\"\"\"\u001b[39;00m\n\u001b[32m    250\u001b[39m \u001b[38;5;66;03m# apply compression and byte/text conversion\u001b[39;00m\n\u001b[32m--> \u001b[39m\u001b[32m251\u001b[39m \u001b[38;5;28;01mwith\u001b[39;00m \u001b[43mget_handle\u001b[49m\u001b[43m(\u001b[49m\n\u001b[32m    252\u001b[39m \u001b[43m    \u001b[49m\u001b[38;5;28;43mself\u001b[39;49m\u001b[43m.\u001b[49m\u001b[43mfilepath_or_buffer\u001b[49m\u001b[43m,\u001b[49m\n\u001b[32m    253\u001b[39m \u001b[43m    \u001b[49m\u001b[38;5;28;43mself\u001b[39;49m\u001b[43m.\u001b[49m\u001b[43mmode\u001b[49m\u001b[43m,\u001b[49m\n\u001b[32m    254\u001b[39m \u001b[43m    \u001b[49m\u001b[43mencoding\u001b[49m\u001b[43m=\u001b[49m\u001b[38;5;28;43mself\u001b[39;49m\u001b[43m.\u001b[49m\u001b[43mencoding\u001b[49m\u001b[43m,\u001b[49m\n\u001b[32m    255\u001b[39m \u001b[43m    \u001b[49m\u001b[43merrors\u001b[49m\u001b[43m=\u001b[49m\u001b[38;5;28;43mself\u001b[39;49m\u001b[43m.\u001b[49m\u001b[43merrors\u001b[49m\u001b[43m,\u001b[49m\n\u001b[32m    256\u001b[39m \u001b[43m    \u001b[49m\u001b[43mcompression\u001b[49m\u001b[43m=\u001b[49m\u001b[38;5;28;43mself\u001b[39;49m\u001b[43m.\u001b[49m\u001b[43mcompression\u001b[49m\u001b[43m,\u001b[49m\n\u001b[32m    257\u001b[39m \u001b[43m    \u001b[49m\u001b[43mstorage_options\u001b[49m\u001b[43m=\u001b[49m\u001b[38;5;28;43mself\u001b[39;49m\u001b[43m.\u001b[49m\u001b[43mstorage_options\u001b[49m\u001b[43m,\u001b[49m\n\u001b[32m    258\u001b[39m \u001b[43m\u001b[49m\u001b[43m)\u001b[49m \u001b[38;5;28;01mas\u001b[39;00m handles:\n\u001b[32m    259\u001b[39m     \u001b[38;5;66;03m# Note: self.encoding is irrelevant here\u001b[39;00m\n\u001b[32m    260\u001b[39m     \u001b[38;5;28mself\u001b[39m.writer = csvlib.writer(\n\u001b[32m    261\u001b[39m         handles.handle,\n\u001b[32m    262\u001b[39m         lineterminator=\u001b[38;5;28mself\u001b[39m.lineterminator,\n\u001b[32m   (...)\u001b[39m\u001b[32m    267\u001b[39m         quotechar=\u001b[38;5;28mself\u001b[39m.quotechar,\n\u001b[32m    268\u001b[39m     )\n\u001b[32m    270\u001b[39m     \u001b[38;5;28mself\u001b[39m._save()\n",
      "\u001b[36mFile \u001b[39m\u001b[32mc:\\Users\\piyus\\AppData\\Local\\Programs\\Python\\Python313\\Lib\\site-packages\\pandas\\io\\common.py:749\u001b[39m, in \u001b[36mget_handle\u001b[39m\u001b[34m(path_or_buf, mode, encoding, compression, memory_map, is_text, errors, storage_options)\u001b[39m\n\u001b[32m    747\u001b[39m \u001b[38;5;66;03m# Only for write methods\u001b[39;00m\n\u001b[32m    748\u001b[39m \u001b[38;5;28;01mif\u001b[39;00m \u001b[33m\"\u001b[39m\u001b[33mr\u001b[39m\u001b[33m\"\u001b[39m \u001b[38;5;129;01mnot\u001b[39;00m \u001b[38;5;129;01min\u001b[39;00m mode \u001b[38;5;129;01mand\u001b[39;00m is_path:\n\u001b[32m--> \u001b[39m\u001b[32m749\u001b[39m     \u001b[43mcheck_parent_directory\u001b[49m\u001b[43m(\u001b[49m\u001b[38;5;28;43mstr\u001b[39;49m\u001b[43m(\u001b[49m\u001b[43mhandle\u001b[49m\u001b[43m)\u001b[49m\u001b[43m)\u001b[49m\n\u001b[32m    751\u001b[39m \u001b[38;5;28;01mif\u001b[39;00m compression:\n\u001b[32m    752\u001b[39m     \u001b[38;5;28;01mif\u001b[39;00m compression != \u001b[33m\"\u001b[39m\u001b[33mzstd\u001b[39m\u001b[33m\"\u001b[39m:\n\u001b[32m    753\u001b[39m         \u001b[38;5;66;03m# compression libraries do not like an explicit text-mode\u001b[39;00m\n",
      "\u001b[36mFile \u001b[39m\u001b[32mc:\\Users\\piyus\\AppData\\Local\\Programs\\Python\\Python313\\Lib\\site-packages\\pandas\\io\\common.py:616\u001b[39m, in \u001b[36mcheck_parent_directory\u001b[39m\u001b[34m(path)\u001b[39m\n\u001b[32m    614\u001b[39m parent = Path(path).parent\n\u001b[32m    615\u001b[39m \u001b[38;5;28;01mif\u001b[39;00m \u001b[38;5;129;01mnot\u001b[39;00m parent.is_dir():\n\u001b[32m--> \u001b[39m\u001b[32m616\u001b[39m     \u001b[38;5;28;01mraise\u001b[39;00m \u001b[38;5;167;01mOSError\u001b[39;00m(\u001b[33mrf\u001b[39m\u001b[33m\"\u001b[39m\u001b[33mCannot save file into a non-existent directory: \u001b[39m\u001b[33m'\u001b[39m\u001b[38;5;132;01m{\u001b[39;00mparent\u001b[38;5;132;01m}\u001b[39;00m\u001b[33m'\u001b[39m\u001b[33m\"\u001b[39m)\n",
      "\u001b[31mOSError\u001b[39m: Cannot save file into a non-existent directory: 'data\\processed'"
     ]
    }
   ],
   "source": [
    "df.to_csv('D:/AI-supply-chain-nestle/data/processed/cleaned_daily_nestle.csv', index=False)\n",
    "df_monthly.to_csv('data/processed/cleaned_monthly_nestle.csv', index=False)\n",
    "print(\"\\nCleaned data saved:\")\n",
    "print(\"- Daily shape:\", df.shape)\n",
    "print(\"- Monthly shape:\", df_monthly.shape)\n",
    "print(\"\\nSample Monthly Data:\")\n",
    "print(df_monthly.head())"
   ]
  },
  {
   "cell_type": "code",
   "execution_count": null,
   "id": "26127ea7",
   "metadata": {},
   "outputs": [],
   "source": []
  },
  {
   "cell_type": "code",
   "execution_count": null,
   "id": "804ff16d",
   "metadata": {},
   "outputs": [],
   "source": []
  },
  {
   "cell_type": "code",
   "execution_count": null,
   "id": "51dd839b",
   "metadata": {},
   "outputs": [],
   "source": []
  }
 ],
 "metadata": {
  "kernelspec": {
   "display_name": "Python 3",
   "language": "python",
   "name": "python3"
  },
  "language_info": {
   "codemirror_mode": {
    "name": "ipython",
    "version": 3
   },
   "file_extension": ".py",
   "mimetype": "text/x-python",
   "name": "python",
   "nbconvert_exporter": "python",
   "pygments_lexer": "ipython3",
   "version": "3.13.3"
  }
 },
 "nbformat": 4,
 "nbformat_minor": 5
}
