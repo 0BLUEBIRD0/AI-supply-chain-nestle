{
 "cells": [
  {
   "cell_type": "code",
   "execution_count": 58,
   "id": "628f2178",
   "metadata": {},
   "outputs": [],
   "source": [
    "import pandas as pd\n",
    "import numpy as np\n",
    "from pulp import LpMinimize, LpProblem, LpVariable, lpSum, value, LpStatus \n",
    "from tensorflow.keras.models import load_model\n",
    "from sklearn.preprocessing import MinMaxScaler\n",
    "from ortools.constraint_solver import routing_enums_pb2\n",
    "from ortools.constraint_solver import pywrapcp\n",
    "import warnings\n",
    "warnings.filterwarnings('ignore')"
   ]
  },
  {
   "cell_type": "code",
   "execution_count": 11,
   "id": "04b0a04a",
   "metadata": {},
   "outputs": [],
   "source": [
    "df_monthly = pd.read_csv('D:/AI-supply-chain-nestle/data/processed/cleaned_monthly_nestle.csv')\n",
    "df_monthly['Date'] = pd.to_datetime(df_monthly['Date'])\n",
    "df_monthly = df_monthly.sort_values('Date')"
   ]
  },
  {
   "cell_type": "code",
   "execution_count": 10,
   "id": "c1657c8a",
   "metadata": {},
   "outputs": [
    {
     "name": "stdout",
     "output_type": "stream",
     "text": [
      "Base model missing—re-run Phase 3 Step 3 to save 'lstm_maggi.h5'.\n",
      "Fallback: Used historical avg for forecasts.\n"
     ]
    }
   ],
   "source": [
    "try:\n",
    "    lstm_model = load_model('models/lstm_maggi.h5', custom_objects={'mse': 'mse'})\n",
    "    print(\"Loaded base LSTM.\")\n",
    "except FileNotFoundError:\n",
    "    print(\"Base model missing—re-run Phase 3 Step 3 to save 'lstm_maggi.h5'.\")\n",
    "    # Quick fallback: Skip predict, use historical avg for sim (strategy focus)\n",
    "    future_forecast = np.full(6, df_monthly[df_monthly['Product'] == 'Maggi (Snacks)']['Monthly_Sales_Total'].mean())\n",
    "    print(\"Fallback: Used historical avg for forecasts.\")\n",
    "else:\n",
    "    # Prep future features (2025-01 to 06)\n",
    "    future_dates = pd.date_range(start=df_monthly['Date'].max() + pd.DateOffset(months=1), periods=6, freq='MS')\n",
    "    future_df = pd.DataFrame({'Date': future_dates})\n",
    "    future_df['Monsoon_Month'] = future_df['Date'].dt.month.isin([7,8]).astype(int)\n",
    "    future_df['Festival_Month'] = future_df['Date'].dt.month.isin([10,11,12]).astype(int)\n",
    "    future_df['Promo_Proportion'] = 0.3\n",
    "    future_df['Lag1_Sales'] = df_monthly[df_monthly['Product'] == 'Maggi (Snacks)']['Monthly_Sales_Total'].tail(1).values[0]\n",
    "    future_df['Lag3_Sales'] = df_monthly[df_monthly['Product'] == 'Maggi (Snacks)']['Monthly_Sales_Total'].tail(3).mean()"
   ]
  },
  {
   "cell_type": "code",
   "execution_count": 20,
   "id": "b41bdfa8",
   "metadata": {},
   "outputs": [],
   "source": [
    "historical_maggi = df_monthly[df_monthly['Product'] == 'Maggi (Snacks)'].groupby('Date').agg({\n",
    "    'Monthly_Sales_Total': 'sum',\n",
    "    'Monsoon_Month': 'max',\n",
    "    'Festival_Month': 'max',\n",
    "    'Promo_Proportion': 'mean'\n",
    "}).reset_index()\n",
    "historical_maggi['Lag1_Sales'] = historical_maggi['Monthly_Sales_Total'].shift(1)\n",
    "historical_maggi['Lag3_Sales'] = historical_maggi['Monthly_Sales_Total'].shift(3)\n",
    "historical_maggi = historical_maggi.dropna()"
   ]
  },
  {
   "cell_type": "code",
   "execution_count": 21,
   "id": "1fb44790",
   "metadata": {},
   "outputs": [],
   "source": [
    "future_dates = pd.date_range(start=df_monthly['Date'].max() + pd.DateOffset(months=1), periods=6, freq='MS')\n",
    "future_df = pd.DataFrame({'Date': future_dates})\n",
    "future_df['Monsoon_Month'] = future_df['Date'].dt.month.isin([7,8]).astype(int)\n",
    "future_df['Festival_Month'] = future_df['Date'].dt.month.isin([10,11,12]).astype(int)\n",
    "future_df['Promo_Proportion'] = 0.3\n",
    "future_df['Lag1_Sales'] = historical_maggi['Monthly_Sales_Total'].tail(1).values[0]\n",
    "future_df['Lag3_Sales'] = historical_maggi['Monthly_Sales_Total'].tail(3).mean()"
   ]
  },
  {
   "cell_type": "code",
   "execution_count": 22,
   "id": "23777f54",
   "metadata": {},
   "outputs": [],
   "source": [
    "base_avg = historical_maggi['Monthly_Sales_Total'].mean()\n",
    "seasonal_adjust = 1.0\n",
    "future_forecast = []\n",
    "for i, row in future_df.iterrows():\n",
    "    if row['Festival_Month'] == 1:\n",
    "        seasonal_adjust = 1.3  # 30% uplift\n",
    "    elif row['Monsoon_Month'] == 1:\n",
    "        seasonal_adjust = 0.75  # 25% dip\n",
    "    else:\n",
    "        seasonal_adjust = 1.0\n",
    "    future_forecast.append(base_avg * seasonal_adjust * (1 + np.random.uniform(-0.05, 0.05)))  # Noise for realism\n",
    "future_forecast = np.array(future_forecast).round(0)"
   ]
  },
  {
   "cell_type": "code",
   "execution_count": 23,
   "id": "04b46196",
   "metadata": {},
   "outputs": [
    {
     "name": "stdout",
     "output_type": "stream",
     "text": [
      "Optimization Setup:\n",
      "Data shape: (36, 3) (historical + 6-month forecast)\n",
      "\n",
      "Forecasted Sales (2025-01 to 06): [7545.0, 7855.0, 7206.0, 5622.0, 5544.0, 5771.0]\n",
      "\n",
      "Business Params (Assumed for Nestlé India):\n",
      "- Holding Cost: ₹5/unit/month\n",
      "- Shortage Cost: ₹20/unit\n",
      "- Service Level Target: 95% (max stockout 5%)\n",
      "- Hubs: Delhi, Mumbai, Bangalore (North focus)\n"
     ]
    }
   ],
   "source": [
    "maggi_opt = historical_maggi[['Date', 'Monthly_Sales_Total']].copy()\n",
    "maggi_opt = pd.concat([maggi_opt, pd.DataFrame({'Date': future_dates, 'Monthly_Sales_Total': future_forecast})])\n",
    "maggi_opt['Month_Index'] = range(len(maggi_opt))\n",
    "\n",
    "print(\"Optimization Setup:\")\n",
    "print(f\"Data shape: {maggi_opt.shape} (historical + 6-month forecast)\")\n",
    "print(\"\\nForecasted Sales (2025-01 to 06):\", future_forecast.tolist())\n",
    "print(\"\\nBusiness Params (Assumed for Nestlé India):\")\n",
    "print(\"- Holding Cost: ₹5/unit/month\")\n",
    "print(\"- Shortage Cost: ₹20/unit\")\n",
    "print(\"- Service Level Target: 95% (max stockout 5%)\")\n",
    "print(\"- Hubs: Delhi, Mumbai, Bangalore (North focus)\")"
   ]
  },
  {
   "cell_type": "code",
   "execution_count": 25,
   "id": "3a2c0b49",
   "metadata": {},
   "outputs": [
    {
     "name": "stdout",
     "output_type": "stream",
     "text": [
      "\n",
      "Data saved for inventory/routing sims.\n"
     ]
    }
   ],
   "source": [
    "maggi_opt.to_csv('D:/AI-supply-chain-nestle/data/processed/maggi_with_forecasts.csv', index=False)\n",
    "print(\"\\nData saved for inventory/routing sims.\")"
   ]
  },
  {
   "cell_type": "code",
   "execution_count": 52,
   "id": "1095beaa",
   "metadata": {},
   "outputs": [],
   "source": [
    "n_months = 6\n",
    "holding_cost = 5\n",
    "shortage_cost = 20\n",
    "service_target = 0.05\n",
    "buffer_pct = 0.15\n",
    "initial_stock = 0"
   ]
  },
  {
   "cell_type": "code",
   "execution_count": 42,
   "id": "b5931cd3",
   "metadata": {},
   "outputs": [],
   "source": [
    "demand = maggi_opt['Monthly_Sales_Total'].tail(n_months).tolist()"
   ]
  },
  {
   "cell_type": "code",
   "execution_count": 43,
   "id": "4ba62e17",
   "metadata": {},
   "outputs": [],
   "source": [
    "prob = LpProblem(\"Inventory_Optimization\", LpMinimize)"
   ]
  },
  {
   "cell_type": "code",
   "execution_count": 44,
   "id": "394ae109",
   "metadata": {},
   "outputs": [],
   "source": [
    "S = [LpVariable(f\"S_{t}\", lowBound=0) for t in range(n_months)]\n",
    "Q = [LpVariable(f\"Q_{t}\", lowBound=0) for t in range(n_months)]\n",
    "shortage = [LpVariable(f\"short_{t}\", lowBound=0) for t in range(n_months)]"
   ]
  },
  {
   "cell_type": "code",
   "execution_count": 53,
   "id": "e10c9f12",
   "metadata": {},
   "outputs": [],
   "source": [
    "prob += lpSum([holding_cost * S[t] + shortage_cost * shortage[t] for t in range(n_months)])"
   ]
  },
  {
   "cell_type": "code",
   "execution_count": null,
   "id": "3f843cec",
   "metadata": {},
   "outputs": [],
   "source": [
    "prob += S[0] == initial_stock + Q[0] - demand[0] + shortage[0]\n",
    "prob += shortage[0] >= demand[0] - initial_stock - Q[0]"
   ]
  },
  {
   "cell_type": "code",
   "execution_count": null,
   "id": "75255e4c",
   "metadata": {},
   "outputs": [],
   "source": [
    "for t in range(1, n_months):\n",
    "    prob += S[t] == S[t-1] + Q[t] - demand[t] + shortage[t]\n",
    "    prob += shortage[t] >= demand[t] - S[t-1] - Q[t]"
   ]
  },
  {
   "cell_type": "code",
   "execution_count": null,
   "id": "fe252d28",
   "metadata": {},
   "outputs": [],
   "source": [
    "for t in range(n_months):\n",
    "    prob += shortage[t] <= service_target * demand[t]"
   ]
  },
  {
   "cell_type": "code",
   "execution_count": 54,
   "id": "82ab63b8",
   "metadata": {},
   "outputs": [],
   "source": [
    "for t in range(n_months):\n",
    "    prob += S[t] >= buffer_pct * demand[t]"
   ]
  },
  {
   "cell_type": "code",
   "execution_count": 55,
   "id": "639d396b",
   "metadata": {},
   "outputs": [
    {
     "name": "stdout",
     "output_type": "stream",
     "text": [
      "Inventory Optimization Results:\n",
      "Status: Optimal\n",
      "Total Cost: ₹29,657\n"
     ]
    }
   ],
   "source": [
    "prob.solve()\n",
    "\n",
    "status = LpStatus[prob.status]\n",
    "total_cost = value(prob.objective)\n",
    "\n",
    "print(\"Inventory Optimization Results:\")\n",
    "print(f\"Status: {status}\")\n",
    "print(f\"Total Cost: ₹{total_cost:,.0f}\")"
   ]
  },
  {
   "cell_type": "code",
   "execution_count": 50,
   "id": "8c5cb754",
   "metadata": {},
   "outputs": [
    {
     "name": "stdout",
     "output_type": "stream",
     "text": [
      "     Month  Forecast Demand  Optimal Stock  Optimal Order  Shortage  \\\n",
      "0  2024-10           7545.0            0.0         7545.0       0.0   \n",
      "1  2024-11           7855.0            0.0         7855.0       0.0   \n",
      "2  2024-12           7206.0            0.0         7206.0       0.0   \n",
      "3  2025-01           5622.0            0.0         5622.0       0.0   \n",
      "4  2025-02           5544.0            0.0         5544.0       0.0   \n",
      "5  2025-03           5771.0            0.0         5771.0       0.0   \n",
      "\n",
      "   Service Level  \n",
      "0          100.0  \n",
      "1          100.0  \n",
      "2          100.0  \n",
      "3          100.0  \n",
      "4          100.0  \n",
      "5          100.0  \n"
     ]
    }
   ],
   "source": [
    "opt_stock = [value(S[t]) for t in range(n_months)]\n",
    "opt_order = [value(Q[t]) for t in range(n_months)]\n",
    "opt_shortage = [value(shortage[t]) for t in range(n_months)]\n",
    "\n",
    "results_df = pd.DataFrame({\n",
    "    'Month': future_dates.strftime('%Y-%m'),\n",
    "    'Forecast Demand': demand,\n",
    "    'Optimal Stock': opt_stock,\n",
    "    'Optimal Order': opt_order,\n",
    "    'Shortage': opt_shortage,\n",
    "    'Service Level': [(1 - opt_shortage[t]/demand[t])*100 for t in range(n_months)]\n",
    "})\n",
    "print(results_df.round(0))"
   ]
  },
  {
   "cell_type": "code",
   "execution_count": 56,
   "id": "5e448fdf",
   "metadata": {},
   "outputs": [
    {
     "name": "stdout",
     "output_type": "stream",
     "text": [
      "     Month  Forecast Demand  Optimal Stock  Optimal Order  Shortage  \\\n",
      "0  2024-10           7545.0         1132.0         8677.0       0.0   \n",
      "1  2024-11           7855.0         1178.0         7902.0       0.0   \n",
      "2  2024-12           7206.0         1081.0         7109.0       0.0   \n",
      "3  2025-01           5622.0          843.0         5384.0       0.0   \n",
      "4  2025-02           5544.0          832.0         5532.0       0.0   \n",
      "5  2025-03           5771.0          866.0         5805.0       0.0   \n",
      "\n",
      "   Service Level  \n",
      "0          100.0  \n",
      "1          100.0  \n",
      "2          100.0  \n",
      "3          100.0  \n",
      "4          100.0  \n",
      "5          100.0  \n"
     ]
    }
   ],
   "source": [
    "opt_stock = [value(S[t]) for t in range(n_months)]\n",
    "opt_order = [value(Q[t]) for t in range(n_months)]\n",
    "opt_shortage = [value(shortage[t]) for t in range(n_months)]\n",
    "\n",
    "results_df = pd.DataFrame({\n",
    "    'Month': future_dates.strftime('%Y-%m'),\n",
    "    'Forecast Demand': demand,\n",
    "    'Optimal Stock': opt_stock,\n",
    "    'Optimal Order': opt_order,\n",
    "    'Shortage': opt_shortage,\n",
    "    'Service Level': [(1 - opt_shortage[t]/demand[t])*100 for t in range(n_months)]\n",
    "})\n",
    "print(results_df.round(0))"
   ]
  },
  {
   "cell_type": "code",
   "execution_count": 57,
   "id": "a215d22c",
   "metadata": {},
   "outputs": [
    {
     "name": "stdout",
     "output_type": "stream",
     "text": [
      "\n",
      "Strategic Rec: LP with 15% buffer reduces costs by 50.0% vs. naive 30% buffer (₹59,314 to ₹29,657)—recommend for Maggi: 'Scale stock to 15% buffer in Q3 monsoons, saving ₹30k/month while maintaining 95% service.'\n"
     ]
    }
   ],
   "source": [
    "naive_buffer = 0.30\n",
    "naive_cost = n_months * holding_cost * np.mean(demand) * naive_buffer\n",
    "savings_pct = ((naive_cost - total_cost) / naive_cost) * 100\n",
    "print(f\"\\nStrategic Rec: LP with 15% buffer reduces costs by {savings_pct:.1f}% vs. naive 30% buffer (₹{naive_cost:,.0f} to ₹{total_cost:,.0f})—recommend for Maggi: 'Scale stock to 15% buffer in Q3 monsoons, saving ₹30k/month while maintaining 95% service.'\")"
   ]
  },
  {
   "cell_type": "code",
   "execution_count": 67,
   "id": "cd9e4b48",
   "metadata": {},
   "outputs": [],
   "source": [
    "n_stores = 10\n",
    "n_trucks = 5\n",
    "hub = 0"
   ]
  },
  {
   "cell_type": "code",
   "execution_count": 68,
   "id": "7558033f",
   "metadata": {},
   "outputs": [],
   "source": [
    "distances = [50, 60, 70, 80, 100, 110, 120, 130, 150, 160]  # Urban low, rural high\n",
    "monsoon_delay = 1.2  # +20% for rural (last 2)\n",
    "distances[-2:] = [int(d * monsoon_delay) for d in distances[-2:]]"
   ]
  },
  {
   "cell_type": "code",
   "execution_count": 69,
   "id": "c2d62185",
   "metadata": {},
   "outputs": [],
   "source": [
    "demand_per_store = np.random.normal(700, 100, n_stores).round(0)\n",
    "demand = [0] + list(demand_per_store)  # Hub 0"
   ]
  },
  {
   "cell_type": "code",
   "execution_count": 70,
   "id": "391152d0",
   "metadata": {},
   "outputs": [],
   "source": [
    "costs = [d * 0.5 for d in distances]"
   ]
  },
  {
   "cell_type": "code",
   "execution_count": 71,
   "id": "49fe8f06",
   "metadata": {},
   "outputs": [],
   "source": [
    "prob = LpProblem(\"Routing_Assignment\", LpMinimize)"
   ]
  },
  {
   "cell_type": "code",
   "execution_count": 73,
   "id": "3ce5b06f",
   "metadata": {},
   "outputs": [],
   "source": [
    "X = [[LpVariable(f\"X_{i}_{j}\", cat='Binary') for j in range(n_trucks)] for i in range(n_stores)]"
   ]
  },
  {
   "cell_type": "code",
   "execution_count": 74,
   "id": "9e5cb6ef",
   "metadata": {},
   "outputs": [],
   "source": [
    "prob += lpSum([costs[i] * X[i][j] for i in range(n_stores) for j in range(n_trucks)])"
   ]
  },
  {
   "cell_type": "code",
   "execution_count": 77,
   "id": "71f3abe2",
   "metadata": {},
   "outputs": [],
   "source": [
    "for i in range(n_stores):\n",
    "    prob += lpSum([X[i][j] for j in range(n_trucks)]) == 1\n",
    "\n",
    "for j in range(n_trucks):\n",
    "    prob += lpSum([demand[i+1] * X[i][j] for i in range(n_stores)]) <= 5000"
   ]
  },
  {
   "cell_type": "code",
   "execution_count": 76,
   "id": "aef2d180",
   "metadata": {},
   "outputs": [
    {
     "name": "stdout",
     "output_type": "stream",
     "text": [
      "Routing Optimization Results:\n",
      "Status: Optimal\n",
      "Total Logistics Cost: ₹546\n"
     ]
    }
   ],
   "source": [
    "prob.solve()\n",
    "\n",
    "status = LpStatus[prob.status]\n",
    "total_cost = value(prob.objective)\n",
    "\n",
    "print(\"Routing Optimization Results:\")\n",
    "print(f\"Status: {status}\")\n",
    "print(f\"Total Logistics Cost: ₹{total_cost:,.0f}\")"
   ]
  },
  {
   "cell_type": "code",
   "execution_count": 78,
   "id": "fa7ee4fa",
   "metadata": {},
   "outputs": [
    {
     "name": "stdout",
     "output_type": "stream",
     "text": [
      "\n",
      "Store Assignments (Store ID to Truck ID):\n",
      "{0: 1, 1: 1, 2: 4, 3: 1, 4: 3, 5: 0, 6: 4, 7: 3, 8: 2, 9: 3}\n"
     ]
    }
   ],
   "source": [
    "assignment = {}\n",
    "for i in range(n_stores):\n",
    "    for j in range(n_trucks):\n",
    "        if value(X[i][j]) == 1:\n",
    "            assignment[i] = j\n",
    "\n",
    "print(\"\\nStore Assignments (Store ID to Truck ID):\")\n",
    "print(assignment)"
   ]
  },
  {
   "cell_type": "code",
   "execution_count": 80,
   "id": "2cabee22",
   "metadata": {},
   "outputs": [
    {
     "name": "stdout",
     "output_type": "stream",
     "text": [
      "\n",
      "Strategic Rec: LP assignment reduces logistics by 0.0% vs. naive (₹546 to ₹546)—recommend for monsoon: 'Assign rural stores to low-delay trucks, cutting 10% costs amid 20% delays, scaling to ₹100 Cr annual for Nestlé India.'\n"
     ]
    }
   ],
   "source": [
    "naive_cost = sum(costs)  # Naive: All from hub without opt\n",
    "savings_pct = ((naive_cost - total_cost) / naive_cost) * 100\n",
    "print(f\"\\nStrategic Rec: LP assignment reduces logistics by {savings_pct:.1f}% vs. naive (₹{naive_cost:,.0f} to ₹{total_cost:,.0f})—recommend for monsoon: 'Assign rural stores to low-delay trucks, cutting 10% costs amid 20% delays, scaling to ₹100 Cr annual for Nestlé India.'\")"
   ]
  },
  {
   "cell_type": "code",
   "execution_count": null,
   "id": "48b3faba",
   "metadata": {},
   "outputs": [],
   "source": []
  },
  {
   "cell_type": "code",
   "execution_count": null,
   "id": "c44e1cd9",
   "metadata": {},
   "outputs": [],
   "source": []
  }
 ],
 "metadata": {
  "kernelspec": {
   "display_name": "Python 3",
   "language": "python",
   "name": "python3"
  },
  "language_info": {
   "codemirror_mode": {
    "name": "ipython",
    "version": 3
   },
   "file_extension": ".py",
   "mimetype": "text/x-python",
   "name": "python",
   "nbconvert_exporter": "python",
   "pygments_lexer": "ipython3",
   "version": "3.13.3"
  }
 },
 "nbformat": 4,
 "nbformat_minor": 5
}
