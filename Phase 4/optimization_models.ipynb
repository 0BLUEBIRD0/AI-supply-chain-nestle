{
 "cells": [
  {
   "cell_type": "code",
   "execution_count": null,
   "id": "628f2178",
   "metadata": {},
   "outputs": [],
   "source": [
    "import pandas as pd\n",
    "import numpy as np\n",
    "from pulp import LpMinimize, LpProblem, LpVariable, lpSum, value\n",
    "from tensorflow.keras.models import load_model\n",
    "from sklearn.preprocessing import MinMaxScaler\n",
    "import warnings\n",
    "warnings.filterwarnings('ignore')"
   ]
  },
  {
   "cell_type": "code",
   "execution_count": 11,
   "id": "04b0a04a",
   "metadata": {},
   "outputs": [],
   "source": [
    "df_monthly = pd.read_csv('D:/AI-supply-chain-nestle/data/processed/cleaned_monthly_nestle.csv')\n",
    "df_monthly['Date'] = pd.to_datetime(df_monthly['Date'])\n",
    "df_monthly = df_monthly.sort_values('Date')"
   ]
  },
  {
   "cell_type": "code",
   "execution_count": 10,
   "id": "c1657c8a",
   "metadata": {},
   "outputs": [
    {
     "name": "stdout",
     "output_type": "stream",
     "text": [
      "Base model missing—re-run Phase 3 Step 3 to save 'lstm_maggi.h5'.\n",
      "Fallback: Used historical avg for forecasts.\n"
     ]
    }
   ],
   "source": [
    "try:\n",
    "    lstm_model = load_model('models/lstm_maggi.h5', custom_objects={'mse': 'mse'})\n",
    "    print(\"Loaded base LSTM.\")\n",
    "except FileNotFoundError:\n",
    "    print(\"Base model missing—re-run Phase 3 Step 3 to save 'lstm_maggi.h5'.\")\n",
    "    # Quick fallback: Skip predict, use historical avg for sim (strategy focus)\n",
    "    future_forecast = np.full(6, df_monthly[df_monthly['Product'] == 'Maggi (Snacks)']['Monthly_Sales_Total'].mean())\n",
    "    print(\"Fallback: Used historical avg for forecasts.\")\n",
    "else:\n",
    "    # Prep future features (2025-01 to 06)\n",
    "    future_dates = pd.date_range(start=df_monthly['Date'].max() + pd.DateOffset(months=1), periods=6, freq='MS')\n",
    "    future_df = pd.DataFrame({'Date': future_dates})\n",
    "    future_df['Monsoon_Month'] = future_df['Date'].dt.month.isin([7,8]).astype(int)\n",
    "    future_df['Festival_Month'] = future_df['Date'].dt.month.isin([10,11,12]).astype(int)\n",
    "    future_df['Promo_Proportion'] = 0.3\n",
    "    future_df['Lag1_Sales'] = df_monthly[df_monthly['Product'] == 'Maggi (Snacks)']['Monthly_Sales_Total'].tail(1).values[0]\n",
    "    future_df['Lag3_Sales'] = df_monthly[df_monthly['Product'] == 'Maggi (Snacks)']['Monthly_Sales_Total'].tail(3).mean()"
   ]
  },
  {
   "cell_type": "code",
   "execution_count": null,
   "id": "b41bdfa8",
   "metadata": {},
   "outputs": [
    {
     "ename": "IndentationError",
     "evalue": "unexpected indent (944508290.py, line 7)",
     "output_type": "error",
     "traceback": [
      "  \u001b[36mCell\u001b[39m\u001b[36m \u001b[39m\u001b[32mIn[17]\u001b[39m\u001b[32m, line 7\u001b[39m\n\u001b[31m    \u001b[39m\u001b[31mhistorical_maggi['Lag1_Sales'] = historical_maggi['Monthly_Sales_Total'].shift(1)\u001b[39m\n    ^\n\u001b[31mIndentationError\u001b[39m\u001b[31m:\u001b[39m unexpected indent\n"
     ]
    }
   ],
   "source": [
    "historical_maggi = df_monthly[df_monthly['Product'] == 'Maggi (Snacks)'].groupby('Date').agg({\n",
    "        'Monthly_Sales_Total': 'sum',\n",
    "        'Monsoon_Month': 'max',\n",
    "        'Festival_Month': 'max',\n",
    "        'Promo_Proportion': 'mean'\n",
    "    }).reset_index()\n",
    "    historical_maggi['Lag1_Sales'] = historical_maggi['Monthly_Sales_Total'].shift(1)\n",
    "    historical_maggi['Lag3_Sales'] = historical_maggi['Monthly_Sales_Total'].shift(3)\n",
    "    historical_maggi = historical_maggi.dropna()\n",
    "    features = ['Monsoon_Month', 'Festival_Month', 'Promo_Proportion', 'Lag1_Sales', 'Lag3_Sales']\n",
    "    X_hist = historical_maggi[features]\n",
    "    y_hist = historical_maggi['Monthly_Sales_Total']\n",
    "    scaler_X = MinMaxScaler().fit(X_hist)\n",
    "    scaler_y = MinMaxScaler().fit(y_hist.values.reshape(-1, 1))\n",
    "\n",
    "    future_X = scaler_X.transform(future_df[features])\n",
    "    future_X_lstm = future_X.reshape((future_X.shape[0], 1, future_X.shape[1]))\n",
    "    future_forecast_scaled = lstm_model.predict(future_X_lstm)\n",
    "    future_forecast = scaler_y.inverse_transform(future_forecast_scaled).ravel()"
   ]
  },
  {
   "cell_type": "code",
   "execution_count": null,
   "id": "1fb44790",
   "metadata": {},
   "outputs": [],
   "source": []
  }
 ],
 "metadata": {
  "kernelspec": {
   "display_name": "Python 3",
   "language": "python",
   "name": "python3"
  },
  "language_info": {
   "codemirror_mode": {
    "name": "ipython",
    "version": 3
   },
   "file_extension": ".py",
   "mimetype": "text/x-python",
   "name": "python",
   "nbconvert_exporter": "python",
   "pygments_lexer": "ipython3",
   "version": "3.13.3"
  }
 },
 "nbformat": 4,
 "nbformat_minor": 5
}
